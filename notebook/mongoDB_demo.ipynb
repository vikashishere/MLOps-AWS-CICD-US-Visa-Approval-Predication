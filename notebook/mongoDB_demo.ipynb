{
 "cells": [
  {
   "cell_type": "code",
   "execution_count": 1,
   "metadata": {},
   "outputs": [
    {
     "data": {
      "text/plain": [
       "'mongodb+srv://vikashdas770:<AEnCOjD4m9RHvDHr>@cluster0.pah4fpb.mongodb.net/?retryWrites=true&w=majority&appName=Cluster0'"
      ]
     },
     "execution_count": 1,
     "metadata": {},
     "output_type": "execute_result"
    }
   ],
   "source": [
    "# mongoDB connection string\n",
    "\n",
    "'''mongodb+srv://vikashdas770:<AEnCOjD4m9RHvDHr>@cluster0.pah4fpb.mongodb.net/?retryWrites=true&w=majority&appName=Cluster0'''"
   ]
  },
  {
   "cell_type": "code",
   "execution_count": null,
   "metadata": {},
   "outputs": [],
   "source": []
  }
 ],
 "metadata": {
  "kernelspec": {
   "display_name": "visa",
   "language": "python",
   "name": "python3"
  },
  "language_info": {
   "codemirror_mode": {
    "name": "ipython",
    "version": 3
   },
   "file_extension": ".py",
   "mimetype": "text/x-python",
   "name": "python",
   "nbconvert_exporter": "python",
   "pygments_lexer": "ipython3",
   "version": "3.8.19"
  }
 },
 "nbformat": 4,
 "nbformat_minor": 2
}
